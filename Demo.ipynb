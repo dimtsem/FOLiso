{
 "cells": [
  {
   "cell_type": "markdown",
   "metadata": {},
   "source": [
    "# Demonstration of the fics implementation of finite inverse categories"
   ]
  },
  {
   "cell_type": "markdown",
   "metadata": {},
   "source": [
    "## Finite Inverse Categories"
   ]
  },
  {
   "cell_type": "code",
   "execution_count": null,
   "metadata": {},
   "outputs": [],
   "source": [
    "import networkx as nx\n",
    "from fics import TypedFunction\n",
    "from fics import FiniteInverseCategory, FICStructure, FICStructureHomomorphism"
   ]
  },
  {
   "cell_type": "markdown",
   "metadata": {},
   "source": [
    "Let us encode the simple example of $\\mathcal{L}_{\\text{rg}}$ to get us started."
   ]
  },
  {
   "cell_type": "markdown",
   "metadata": {},
   "source": [
    "$\\mathcal{L}_{\\text{rg}}$ is the finite inverse category with:\n",
    "* objects $O,A,I$\n",
    "* arrows $d,c : A \\rightarrow O$, $i: I \\rightarrow A$\n",
    "* relations $id = ic$ (in diagrammatic order of compositions)"
   ]
  },
  {
   "cell_type": "code",
   "execution_count": null,
   "metadata": {},
   "outputs": [],
   "source": [
    "G = nx.MultiDiGraph()\n",
    "G.add_edges_from([('A','O','d'),('A','O','c'),('I','A','i')])\n",
    "Lrg = FiniteInverseCategory(G,[(('I','O','id'),('I','O','ic'))],ficname='Lrg')"
   ]
  },
  {
   "cell_type": "code",
   "execution_count": null,
   "metadata": {},
   "outputs": [],
   "source": [
    "Lrg.ficname"
   ]
  },
  {
   "cell_type": "markdown",
   "metadata": {},
   "source": [
    "To view the set of morphisms $\\mathcal{L}_{\\text{rg}} (I,O)$ one does this..."
   ]
  },
  {
   "cell_type": "code",
   "execution_count": null,
   "metadata": {},
   "outputs": [],
   "source": [
    "Lrg.Hom[('I','O')]"
   ]
  },
  {
   "cell_type": "markdown",
   "metadata": {},
   "source": [
    "...and to get the domain and the codomain of a morphism:"
   ]
  },
  {
   "cell_type": "code",
   "execution_count": null,
   "metadata": {},
   "outputs": [],
   "source": [
    "assert Lrg.cod['i'] == 'A'\n",
    "assert Lrg.dom['id'] == 'I'"
   ]
  },
  {
   "cell_type": "markdown",
   "metadata": {},
   "source": [
    "Let us also look at how the extend method works.\n",
    "\n",
    "The following cell defines the fic given by two parallel arrows $A \\rightrightarrows O$..."
   ]
  },
  {
   "cell_type": "code",
   "execution_count": null,
   "metadata": {},
   "outputs": [],
   "source": [
    "H = nx.MultiDiGraph()\n",
    "H.add_edges_from([('A','O','d'),('A','O','c')])\n",
    "L_A = FiniteInverseCategory(H)"
   ]
  },
  {
   "cell_type": "markdown",
   "metadata": {},
   "source": [
    "...and then extend by adding an arrow $i : I \\to A$ and the relation $ic = id$..."
   ]
  },
  {
   "cell_type": "code",
   "execution_count": null,
   "metadata": {},
   "outputs": [],
   "source": [
    "L_A.extend([('I','A','i')],[(('I','O','id'),('I','O','ic'))],'Lrg_2')"
   ]
  },
  {
   "cell_type": "markdown",
   "metadata": {},
   "source": [
    "which gives us a fic that is isomorphic to $\\mathcal{L}_{\\text{rg}}$."
   ]
  },
  {
   "cell_type": "markdown",
   "metadata": {},
   "source": [
    "To interpret $\\mathcal{L}_{\\text{rg}}$ as a $\\Sigma$-type in UniMath:"
   ]
  },
  {
   "cell_type": "code",
   "execution_count": null,
   "metadata": {},
   "outputs": [],
   "source": [
    "Lrg.UniMathDataShape()"
   ]
  },
  {
   "cell_type": "markdown",
   "metadata": {},
   "source": [
    "## FIC structures"
   ]
  },
  {
   "cell_type": "markdown",
   "metadata": {},
   "source": [
    "Now let us define an $\\mathcal{L}_{\\text{rg}}$-structure $M$, i.e. a functor $M: \\mathcal{L}_{\\text{rg}} \\rightarrow \\textbf{Set}$"
   ]
  },
  {
   "cell_type": "code",
   "execution_count": null,
   "metadata": {},
   "outputs": [],
   "source": [
    "obval = {'O':['x','y'], 'A':['p'],'I':['s']}\n",
    "morval = {('A','O','d'):TypedFunction(obval['A'],obval['O'],{'p':'x'}),\\\n",
    "          ('A','O','c'):TypedFunction(obval['A'],obval['O'],{'p':'x'}),\\\n",
    "          ('I','A','i'):TypedFunction(obval['I'],obval['A'],{'s':'p'})}"
   ]
  },
  {
   "cell_type": "code",
   "execution_count": null,
   "metadata": {},
   "outputs": [],
   "source": [
    "M = FICStructure(Lrg,obval,morval)"
   ]
  },
  {
   "cell_type": "code",
   "execution_count": null,
   "metadata": {},
   "outputs": [],
   "source": [
    "M.strucname"
   ]
  },
  {
   "cell_type": "markdown",
   "metadata": {},
   "source": [
    "To check the value of the functor on objects do:"
   ]
  },
  {
   "cell_type": "code",
   "execution_count": null,
   "metadata": {},
   "outputs": [],
   "source": [
    "M.obval"
   ]
  },
  {
   "cell_type": "markdown",
   "metadata": {},
   "source": [
    "And to interpret $M$ in UniMath do:"
   ]
  },
  {
   "cell_type": "code",
   "execution_count": null,
   "metadata": {},
   "outputs": [],
   "source": [
    "M.UniMathDataPoint()"
   ]
  },
  {
   "cell_type": "markdown",
   "metadata": {},
   "source": [
    "Let us also define the yoneda $\\mathcal{L}_{\\text{rg}}$-structure $\\textbf{y}I$ and the reduced yoneda $\\mathcal{L}_{\\text{rg}}$-structure $\\partial I$"
   ]
  },
  {
   "cell_type": "code",
   "execution_count": null,
   "metadata": {},
   "outputs": [],
   "source": [
    "Y = M\n",
    "Y = M.yoneda('I')\n",
    "Yhat = M.reducedyoneda('I')"
   ]
  },
  {
   "cell_type": "code",
   "execution_count": null,
   "metadata": {},
   "outputs": [],
   "source": [
    "Y.obval"
   ]
  },
  {
   "cell_type": "code",
   "execution_count": null,
   "metadata": {},
   "outputs": [],
   "source": [
    "Yhat.obval"
   ]
  },
  {
   "cell_type": "markdown",
   "metadata": {},
   "source": [
    "Let us now see an example of a collage, i.e. a process of producing a fic $\\mathcal{L}*M$ from a fic $\\mathcal{L}$ and an $\\mathcal{L}$-structure $M$. \n",
    "\n",
    "In particular let us define $\\mathcal{L}_A$..."
   ]
  },
  {
   "cell_type": "code",
   "execution_count": null,
   "metadata": {},
   "outputs": [],
   "source": [
    "G = nx.MultiDiGraph()\n",
    "G.add_edges_from([('A','O','d'),('A','O','c')])\n",
    "L_A = FiniteInverseCategory(G,ficname='L_A')"
   ]
  },
  {
   "cell_type": "markdown",
   "metadata": {},
   "source": [
    "and the $\\mathcal{L}_A$-structure $E$..."
   ]
  },
  {
   "cell_type": "code",
   "execution_count": null,
   "metadata": {},
   "outputs": [],
   "source": [
    "obval = {'O':['x'], 'A':['p']}\n",
    "morval = {('A','O','d'):TypedFunction(obval['A'],obval['O'],{'p':'x'}),\\\n",
    "          ('A','O','c'):TypedFunction(obval['A'],obval['O'],{'p':'x'})}\n",
    "E = FICStructure(L_A,obval,morval,strucname='E')"
   ]
  },
  {
   "cell_type": "markdown",
   "metadata": {},
   "source": [
    "...and take the collage $\\mathcal{L}_A * E$ of $E$."
   ]
  },
  {
   "cell_type": "code",
   "execution_count": null,
   "metadata": {},
   "outputs": [],
   "source": [
    "L_A_E = E.collage()"
   ]
  },
  {
   "cell_type": "code",
   "execution_count": null,
   "metadata": {},
   "outputs": [],
   "source": [
    "L_A_E.ficname"
   ]
  },
  {
   "cell_type": "markdown",
   "metadata": {},
   "source": [
    "As is to be expected, the fic $\\mathcal{L}_A * E$ is isomorphic to $\\mathcal{L}_{\\text{rg}}$."
   ]
  },
  {
   "cell_type": "code",
   "execution_count": null,
   "metadata": {},
   "outputs": [],
   "source": [
    "print(L_A_E.Hom[('L_AE','O')])\n",
    "print(L_A_E.Hom[('A','O')])\n",
    "print(L_A_E.relations)"
   ]
  },
  {
   "cell_type": "markdown",
   "metadata": {},
   "source": [
    "## FIC Transformations"
   ]
  },
  {
   "cell_type": "markdown",
   "metadata": {},
   "source": [
    "Let us define a natural transformation $\\alpha : \\partial I \\to \\mathcal{L}_{\\text{rg}}$"
   ]
  },
  {
   "cell_type": "code",
   "execution_count": null,
   "metadata": {},
   "outputs": [],
   "source": [
    "YhatO = Yhat.obval['O']\n",
    "MO = M.obval['O']\n",
    "YhatA = Yhat.obval['A']\n",
    "MA = M.obval['A']\n",
    "# the functions corresponding to the data for the natural transformation\n",
    "a_O = TypedFunction(YhatO,MO,{('I', 'O', 'id'):'x'})\n",
    "a_A = TypedFunction(YhatA,MA,{('I', 'A', 'i'):'p'})\n",
    "# definiing the FICStructureHomomorphism object\n",
    "alpha = FICStructureHomomorphism(Lrg,Yhat, M,{'O':a_O,'A':a_A})"
   ]
  },
  {
   "cell_type": "code",
   "execution_count": null,
   "metadata": {},
   "outputs": [],
   "source": [
    "alpha.funcval['O'].app"
   ]
  },
  {
   "cell_type": "markdown",
   "metadata": {},
   "source": [
    "## A \"Data Shape\" toy example"
   ]
  },
  {
   "cell_type": "markdown",
   "metadata": {},
   "source": [
    "Now for a slightly more realistic toy example"
   ]
  },
  {
   "cell_type": "code",
   "execution_count": null,
   "metadata": {},
   "outputs": [],
   "source": [
    "G = nx.MultiDiGraph()\n",
    "G.add_edges_from([('Age','Team','a'),('Gender','Team','g'),('Name','Gender','t1'),\n",
    "                  ('Name','Age','t2')])\n",
    "L = FiniteInverseCategory(G)"
   ]
  },
  {
   "cell_type": "code",
   "execution_count": null,
   "metadata": {},
   "outputs": [],
   "source": [
    "namelist = ['John','Bob','Jane','Pia']\n",
    "agelist = ['x_'+str(n) for n in range(1,100)]\n",
    "genderlist = ['M','F','NA']\n",
    "teamlist = ['Bucks','Bulls']\n",
    "\n",
    "a = {}\n",
    "for n in range(1,51):\n",
    "        a['x_'+str(n)] = 'Bucks'\n",
    "for n in range(51,100):\n",
    "        a['x_'+str(n)] = 'Bulls'\n",
    "a = TypedFunction(agelist,teamlist,a)\n",
    "g = TypedFunction(genderlist,teamlist,{'M':'Bucks','F':'Bulls','NA':'Bulls'})\n",
    "t1 = TypedFunction(namelist,genderlist,{'John':'M','Jane':'F','Pia':'NA','Bob':'M'})\n",
    "t2 = TypedFunction(namelist,agelist,{'John':'x_26','Jane':'x_28','Pia':'x_22','Bob':'x_68'})"
   ]
  },
  {
   "cell_type": "code",
   "execution_count": null,
   "metadata": {},
   "outputs": [],
   "source": [
    "obdata = {'Name':namelist,'Age':agelist, 'Gender':genderlist,'Team':teamlist}\n",
    "mordata = {('Age', 'Team', 'a'):a,('Gender', 'Team', 'g'):g,\n",
    "           ('Name', 'Gender', 't1'):t1,('Name', 'Age', 't2'):t2}\n",
    "M = FICStructure(L,obdata,mordata)"
   ]
  },
  {
   "cell_type": "code",
   "execution_count": null,
   "metadata": {},
   "outputs": [],
   "source": [
    "M.morval[('Name','Team','t2a')].app['John']"
   ]
  },
  {
   "cell_type": "code",
   "execution_count": null,
   "metadata": {},
   "outputs": [],
   "source": [
    "C_Name = M \n",
    "C = C_Name.yoneda('Name')"
   ]
  },
  {
   "cell_type": "code",
   "execution_count": null,
   "metadata": {},
   "outputs": [],
   "source": [
    "r_Name = TypedFunction(C.obval['Name'],M.obval['Name'],{'id_Name':'John'})\n",
    "r_Age = TypedFunction(C.obval['Age'],M.obval['Age'],{('Name', 'Age', 't2'):'x_26'})\n",
    "r_Gender = TypedFunction(C.obval['Gender'],M.obval['Gender'],{('Name', 'Gender', 't1'):'M'})\n",
    "r_Team = TypedFunction(C.obval['Team'],M.obval['Team'],{('Name', 'Team', 't1g'):'Bucks',\n",
    "                                                        ('Name', 'Team', 't2a'):'Bucks'})"
   ]
  },
  {
   "cell_type": "code",
   "execution_count": null,
   "metadata": {},
   "outputs": [],
   "source": [
    "row = FICStructureHomomorphism(L,C,M,{'Name':r_Name,'Age':r_Age,'Gender':r_Gender,\n",
    "                                      'Team':r_Team})"
   ]
  },
  {
   "cell_type": "code",
   "execution_count": null,
   "metadata": {},
   "outputs": [],
   "source": [
    "row.funcval['Name'].app['id_Name']"
   ]
  },
  {
   "cell_type": "markdown",
   "metadata": {},
   "source": [
    "The `row` is so-called because it is, as I have suggested, the replacement for the concept of a \"row\" in the paradigm of tabular data.\n",
    "\n",
    "Thus, for example, the \"rows\" of a data shape are simply a class of certain natural transformations."
   ]
  },
  {
   "cell_type": "markdown",
   "metadata": {},
   "source": [
    "In any case let us write a \"data shape\" version of the toy \"database\" in UniMath."
   ]
  },
  {
   "cell_type": "code",
   "execution_count": null,
   "metadata": {},
   "outputs": [],
   "source": [
    "M.UniMathDataPoint('Teams_datashape')"
   ]
  },
  {
   "cell_type": "markdown",
   "metadata": {},
   "source": [
    "## $h$-Signatures"
   ]
  },
  {
   "cell_type": "code",
   "execution_count": null,
   "metadata": {},
   "outputs": [],
   "source": [
    "from hsig import hSignature"
   ]
  },
  {
   "cell_type": "markdown",
   "metadata": {},
   "source": [
    "Let us now carry out a basic demonstration of the class of $h$-signatures, which can be thought of as fics with extra structure that makes them suitable to be interpreted as families of types of a certain $h$-level, in the sense of the Univalent Foundations of mathematics (i.e. as $n$-groupoids or homotopy $n$-types).\n",
    "\n",
    "Let us define the same fic $\\mathcal{L}_A := A \\rightrightarrows O$ as above..."
   ]
  },
  {
   "cell_type": "code",
   "execution_count": null,
   "metadata": {},
   "outputs": [],
   "source": [
    "H = nx.MultiDiGraph()\n",
    "H.add_edges_from([('A','O','d'),('A','O','c')])\n",
    "L_A = FiniteInverseCategory(H,ficname='L_A')"
   ]
  },
  {
   "cell_type": "markdown",
   "metadata": {},
   "source": [
    "...and initialize it as an $h$-signature:"
   ]
  },
  {
   "cell_type": "code",
   "execution_count": null,
   "metadata": {},
   "outputs": [],
   "source": [
    "hL_A = hSignature(L_A)"
   ]
  },
  {
   "cell_type": "markdown",
   "metadata": {},
   "source": [
    "Notice that the name of $h\\mathcal{L}_A$ is not the same as its underlying fic:"
   ]
  },
  {
   "cell_type": "code",
   "execution_count": null,
   "metadata": {},
   "outputs": [],
   "source": [
    "assert hL_A.ficname != hL_A.hsigname"
   ]
  },
  {
   "cell_type": "markdown",
   "metadata": {},
   "source": [
    "Let us now define $h\\mathcal{L}_{\\text{rg}}$, which is simply $\\mathcal{L}_{\\text{rg}}$ with specified $h$-levels for each object, added simply by adding nodes to the fic with the attribute `'hlevel'` as below..."
   ]
  },
  {
   "cell_type": "code",
   "execution_count": null,
   "metadata": {},
   "outputs": [],
   "source": [
    "hLrg = hSignature(hL_A.extend([('I','A','i')],[(('I','O','id'),('I','O','ic'))],[('I', {'hlevel':1}),\n",
    "                                                                              ('O', {'hlevel':3}),\n",
    "                                                                              ('A', {'hlevel':2})],'hLrg'))"
   ]
  },
  {
   "cell_type": "markdown",
   "metadata": {},
   "source": [
    "...and here is how to view the $h$-levels:"
   ]
  },
  {
   "cell_type": "code",
   "execution_count": null,
   "metadata": {},
   "outputs": [],
   "source": [
    "hLrg.hlevel"
   ]
  },
  {
   "cell_type": "markdown",
   "metadata": {},
   "source": [
    "We can now add an isomorphism sort for $O$..."
   ]
  },
  {
   "cell_type": "code",
   "execution_count": null,
   "metadata": {},
   "outputs": [],
   "source": [
    "hLrg = hLrg.add_iso_sort('O')"
   ]
  },
  {
   "cell_type": "markdown",
   "metadata": {},
   "source": [
    "which will be one less than the $h$-level of $O$..."
   ]
  },
  {
   "cell_type": "code",
   "execution_count": null,
   "metadata": {},
   "outputs": [],
   "source": [
    "hLrg.hlevel['iso_O']"
   ]
  },
  {
   "cell_type": "markdown",
   "metadata": {},
   "source": [
    "...and have the source and target maps $s_O,t_O :\\:\\cong_O \\:\\to O$, as here:"
   ]
  },
  {
   "cell_type": "code",
   "execution_count": null,
   "metadata": {},
   "outputs": [],
   "source": [
    "hLrg.Hom[('iso_O','O')]"
   ]
  },
  {
   "cell_type": "markdown",
   "metadata": {},
   "source": [
    "We can also add a reflexivity sort for $O$..."
   ]
  },
  {
   "cell_type": "code",
   "execution_count": null,
   "metadata": {},
   "outputs": [],
   "source": [
    "hLrg = hLrg.add_refl_sort('O')"
   ]
  },
  {
   "cell_type": "markdown",
   "metadata": {},
   "source": [
    "which will be two less than the $h$-level of $O$..."
   ]
  },
  {
   "cell_type": "code",
   "execution_count": null,
   "metadata": {},
   "outputs": [],
   "source": [
    "hLrg.hlevel['refl_O']"
   ]
  },
  {
   "cell_type": "markdown",
   "metadata": {},
   "source": [
    "...and have just a single map $\\rho_O s_O = \\rho_Ot_O$ into $O$, as here:"
   ]
  },
  {
   "cell_type": "code",
   "execution_count": null,
   "metadata": {},
   "outputs": [],
   "source": [
    "hLrg.Hom[('refl_O','O')]"
   ]
  },
  {
   "cell_type": "markdown",
   "metadata": {},
   "source": [
    "Finally, we can add a transport sort along the \"domain\" map $d : A \\to O$..."
   ]
  },
  {
   "cell_type": "code",
   "execution_count": null,
   "metadata": {},
   "outputs": [],
   "source": [
    "hLrg = hLrg.add_trans_sort(('A','O','d'))"
   ]
  },
  {
   "cell_type": "markdown",
   "metadata": {},
   "source": [
    "...which will be one less than the $h$-level of $A$..."
   ]
  },
  {
   "cell_type": "code",
   "execution_count": null,
   "metadata": {},
   "outputs": [],
   "source": [
    "hLrg.hlevel['trans_d']"
   ]
  },
  {
   "cell_type": "markdown",
   "metadata": {},
   "source": [
    "and have three maps down to $O$..."
   ]
  },
  {
   "cell_type": "code",
   "execution_count": null,
   "metadata": {},
   "outputs": [],
   "source": [
    "hLrg.Hom[('trans_d','O')]"
   ]
  },
  {
   "cell_type": "markdown",
   "metadata": {},
   "source": [
    "...which can be thought of the three variables $p, a, b$ in the equation\n",
    "\n",
    "$$\\mathrm{trans}_p (a) = b$$\n",
    "\n",
    "expressing that $b$ is the transport of $a$ along $p$"
   ]
  }
 ],
 "metadata": {
  "kernelspec": {
   "display_name": "Python 3",
   "language": "python",
   "name": "python3"
  },
  "language_info": {
   "codemirror_mode": {
    "name": "ipython",
    "version": 3
   },
   "file_extension": ".py",
   "mimetype": "text/x-python",
   "name": "python",
   "nbconvert_exporter": "python",
   "pygments_lexer": "ipython3",
   "version": "3.6.5"
  }
 },
 "nbformat": 4,
 "nbformat_minor": 2
}
