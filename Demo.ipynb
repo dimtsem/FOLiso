{
 "cells": [
  {
   "cell_type": "code",
   "execution_count": 1,
   "metadata": {},
   "outputs": [],
   "source": [
    "import networkx as nx\n",
    "from fics import TypedFunction\n",
    "from fics import FiniteInverseCategory, FICStructure, FICStructureHomomorphism"
   ]
  },
  {
   "cell_type": "markdown",
   "metadata": {},
   "source": [
    "# Demonstration of the fics implementation of finite inverse categories"
   ]
  },
  {
   "cell_type": "markdown",
   "metadata": {},
   "source": [
    "## Finite Inverse Categories"
   ]
  },
  {
   "cell_type": "markdown",
   "metadata": {},
   "source": [
    "Let us encode the simple example of $\\mathcal{L}_{\\text{rg}}$ to get us started."
   ]
  },
  {
   "cell_type": "markdown",
   "metadata": {},
   "source": [
    "$\\mathcal{L}_{\\text{rg}}$ is the finite inverse category with:\n",
    "* objects $O,A,I$\n",
    "* arrows $d,c : A \\rightarrow O$, $i: I \\rightarrow A$\n",
    "* relations $id = ic$ (in diagrammatic order of compositions)"
   ]
  },
  {
   "cell_type": "code",
   "execution_count": 2,
   "metadata": {},
   "outputs": [],
   "source": [
    "G = nx.MultiDiGraph()\n",
    "G.add_edges_from([('A','O','d'),('A','O','c'),('I','A','i')])\n",
    "Lrg = FiniteInverseCategory(G,[(('I','O','id'),('I','O','ic'))],ficname='Lrg')"
   ]
  },
  {
   "cell_type": "code",
   "execution_count": 3,
   "metadata": {},
   "outputs": [
    {
     "data": {
      "text/plain": [
       "'Lrg'"
      ]
     },
     "execution_count": 3,
     "metadata": {},
     "output_type": "execute_result"
    }
   ],
   "source": [
    "Lrg.ficname"
   ]
  },
  {
   "cell_type": "markdown",
   "metadata": {},
   "source": [
    "To view the set of morphisms $\\mathcal{L}_{\\text{rg}} (I,O)$ one does this..."
   ]
  },
  {
   "cell_type": "code",
   "execution_count": 4,
   "metadata": {},
   "outputs": [
    {
     "data": {
      "text/plain": [
       "[('I', 'O', 'id')]"
      ]
     },
     "execution_count": 4,
     "metadata": {},
     "output_type": "execute_result"
    }
   ],
   "source": [
    "Lrg.Hom_e[('I','O')]"
   ]
  },
  {
   "cell_type": "markdown",
   "metadata": {},
   "source": [
    "...and to view the set of all morphisms (i.e. even distinct equal ones), which is occasionally useful, one does this:"
   ]
  },
  {
   "cell_type": "code",
   "execution_count": 5,
   "metadata": {},
   "outputs": [
    {
     "data": {
      "text/plain": [
       "[('I', 'O', 'id'), ('I', 'O', 'ic')]"
      ]
     },
     "execution_count": 5,
     "metadata": {},
     "output_type": "execute_result"
    }
   ],
   "source": [
    "Lrg.Hom[('I','O')]"
   ]
  },
  {
   "cell_type": "markdown",
   "metadata": {},
   "source": [
    "To get the domain and the codomain of a morphism:"
   ]
  },
  {
   "cell_type": "code",
   "execution_count": 6,
   "metadata": {},
   "outputs": [],
   "source": [
    "assert Lrg.cod['i'] == 'A'\n",
    "assert Lrg.dom['id'] == 'I'"
   ]
  },
  {
   "cell_type": "markdown",
   "metadata": {},
   "source": [
    "To interpret $\\mathcal{L}_{\\text{rg}}$ as a $\\Sigma$-type in UniMath:"
   ]
  },
  {
   "cell_type": "code",
   "execution_count": 7,
   "metadata": {},
   "outputs": [],
   "source": [
    "Lrg.UniMathDataShape()"
   ]
  },
  {
   "cell_type": "markdown",
   "metadata": {},
   "source": [
    "## FIC structures"
   ]
  },
  {
   "cell_type": "markdown",
   "metadata": {},
   "source": [
    "Now let us define an $\\mathcal{L}_{\\text{rg}}$-structure $M$, i.e. a functor $M: \\mathcal{L}_{\\text{rg}} \\rightarrow \\textbf{Set}$"
   ]
  },
  {
   "cell_type": "code",
   "execution_count": 8,
   "metadata": {},
   "outputs": [],
   "source": [
    "obval = {'O':['x','y'], 'A':['p'],'I':['s']}\n",
    "morval = {('A','O','d'):TypedFunction(obval['A'],obval['O'],{'p':'x'}),\\\n",
    "          ('A','O','c'):TypedFunction(obval['A'],obval['O'],{'p':'x'}),\\\n",
    "          ('I','A','i'):TypedFunction(obval['I'],obval['A'],{'s':'p'})}"
   ]
  },
  {
   "cell_type": "code",
   "execution_count": 9,
   "metadata": {},
   "outputs": [],
   "source": [
    "M = FICStructure(Lrg,obval,morval)"
   ]
  },
  {
   "cell_type": "code",
   "execution_count": 10,
   "metadata": {},
   "outputs": [
    {
     "data": {
      "text/plain": [
       "'M'"
      ]
     },
     "execution_count": 10,
     "metadata": {},
     "output_type": "execute_result"
    }
   ],
   "source": [
    "M.strucname"
   ]
  },
  {
   "cell_type": "markdown",
   "metadata": {},
   "source": [
    "To check the value of the functor on objects do:"
   ]
  },
  {
   "cell_type": "code",
   "execution_count": 11,
   "metadata": {},
   "outputs": [
    {
     "data": {
      "text/plain": [
       "{'O': ['x', 'y'], 'A': ['p'], 'I': ['s']}"
      ]
     },
     "execution_count": 11,
     "metadata": {},
     "output_type": "execute_result"
    }
   ],
   "source": [
    "M.obval"
   ]
  },
  {
   "cell_type": "markdown",
   "metadata": {},
   "source": [
    "And to interpret $M$ in UniMath do:"
   ]
  },
  {
   "cell_type": "code",
   "execution_count": 12,
   "metadata": {},
   "outputs": [],
   "source": [
    "M.UniMathDataPoint()"
   ]
  },
  {
   "cell_type": "markdown",
   "metadata": {},
   "source": [
    "Let us also define the yoneda $\\mathcal{L}_{\\text{rg}}$-structure $\\textbf{y}I$ and the reduced yoneda $\\mathcal{L}_{\\text{rg}}$-structure $\\partial I$"
   ]
  },
  {
   "cell_type": "code",
   "execution_count": 13,
   "metadata": {},
   "outputs": [],
   "source": [
    "Y = M\n",
    "Y = M.yoneda('I')\n",
    "Yhat = M.reducedyoneda('I')"
   ]
  },
  {
   "cell_type": "code",
   "execution_count": 14,
   "metadata": {},
   "outputs": [
    {
     "data": {
      "text/plain": [
       "{'A': [('I', 'A', 'i')], 'O': [('I', 'O', 'id')], 'I': ['id_I']}"
      ]
     },
     "execution_count": 14,
     "metadata": {},
     "output_type": "execute_result"
    }
   ],
   "source": [
    "Y.obval"
   ]
  },
  {
   "cell_type": "code",
   "execution_count": 15,
   "metadata": {},
   "outputs": [
    {
     "data": {
      "text/plain": [
       "{'A': [('I', 'A', 'i')], 'O': [('I', 'O', 'id')], 'I': []}"
      ]
     },
     "execution_count": 15,
     "metadata": {},
     "output_type": "execute_result"
    }
   ],
   "source": [
    "Yhat.obval"
   ]
  },
  {
   "cell_type": "markdown",
   "metadata": {},
   "source": [
    "Let us now see an example of a collage, i.e. a process of producing a fic $\\mathcal{L}*M$ from a fic $\\mathcal{L}$ and an $\\mathcal{L}$-structure $M$. \n",
    "\n",
    "In particular let us define $\\mathcal{L}_A$..."
   ]
  },
  {
   "cell_type": "code",
   "execution_count": 16,
   "metadata": {},
   "outputs": [],
   "source": [
    "G = nx.MultiDiGraph()\n",
    "G.add_edges_from([('A','O','d'),('A','O','c')])\n",
    "L_A = FiniteInverseCategory(G,ficname='L_A')"
   ]
  },
  {
   "cell_type": "markdown",
   "metadata": {},
   "source": [
    "and the $\\mathcal{L}_A$-structure $E$..."
   ]
  },
  {
   "cell_type": "code",
   "execution_count": 17,
   "metadata": {},
   "outputs": [],
   "source": [
    "obval = {'O':['x'], 'A':['p']}\n",
    "morval = {('A','O','d'):TypedFunction(obval['A'],obval['O'],{'p':'x'}),\\\n",
    "          ('A','O','c'):TypedFunction(obval['A'],obval['O'],{'p':'x'})}\n",
    "E = FICStructure(L_A,obval,morval,strucname='E')"
   ]
  },
  {
   "cell_type": "markdown",
   "metadata": {},
   "source": [
    "...and take the collage $\\mathcal{L}_A * E$ of $E$."
   ]
  },
  {
   "cell_type": "code",
   "execution_count": 18,
   "metadata": {},
   "outputs": [],
   "source": [
    "L_A_E = E.collage()"
   ]
  },
  {
   "cell_type": "code",
   "execution_count": 19,
   "metadata": {},
   "outputs": [
    {
     "data": {
      "text/plain": [
       "'L_A*E'"
      ]
     },
     "execution_count": 19,
     "metadata": {},
     "output_type": "execute_result"
    }
   ],
   "source": [
    "L_A_E.ficname"
   ]
  },
  {
   "cell_type": "markdown",
   "metadata": {},
   "source": [
    "As is to be expected, the fic $\\mathcal{L}_A * E$ is isomorphic to $\\mathcal{L}_{\\text{rg}}$."
   ]
  },
  {
   "cell_type": "code",
   "execution_count": 20,
   "metadata": {},
   "outputs": [
    {
     "name": "stdout",
     "output_type": "stream",
     "text": [
      "[('L_AE', 'O', 'x')]\n",
      "[('A', 'O', 'c'), ('A', 'O', 'd')]\n",
      "[(('L_AE', 'O', 'pc'), ('L_AE', 'O', 'x')), (('L_AE', 'O', 'pd'), ('L_AE', 'O', 'x'))]\n"
     ]
    }
   ],
   "source": [
    "print(L_A_E.Hom_e[('L_AE','O')])\n",
    "print(L_A_E.Hom_e[('A','O')])\n",
    "print(L_A_E.relations)"
   ]
  },
  {
   "cell_type": "markdown",
   "metadata": {},
   "source": [
    "## FIC Transformations"
   ]
  },
  {
   "cell_type": "markdown",
   "metadata": {},
   "source": [
    "Let us define a natural transformation $\\alpha : \\partial I \\to \\mathcal{L}_{\\text{rg}}$"
   ]
  },
  {
   "cell_type": "code",
   "execution_count": 21,
   "metadata": {},
   "outputs": [],
   "source": [
    "YhatO = Yhat.obval['O']\n",
    "MO = M.obval['O']\n",
    "YhatA = Yhat.obval['A']\n",
    "MA = M.obval['A']\n",
    "# the functions corresponding to the data for the natural transformation\n",
    "a_O = TypedFunction(YhatO,MO,{('I', 'O', 'id'):'x'})\n",
    "a_A = TypedFunction(YhatA,MA,{('I', 'A', 'i'):'p'})\n",
    "# definiing the FICStructureHomomorphism object\n",
    "alpha = FICStructureHomomorphism(Lrg,Yhat, M,{'O':a_O,'A':a_A})"
   ]
  },
  {
   "cell_type": "code",
   "execution_count": 22,
   "metadata": {},
   "outputs": [
    {
     "data": {
      "text/plain": [
       "{('I', 'O', 'id'): 'x'}"
      ]
     },
     "execution_count": 22,
     "metadata": {},
     "output_type": "execute_result"
    }
   ],
   "source": [
    "alpha.funcval['O'].app"
   ]
  },
  {
   "cell_type": "markdown",
   "metadata": {},
   "source": [
    "## A \"Data Shape\" toy example"
   ]
  },
  {
   "cell_type": "markdown",
   "metadata": {},
   "source": [
    "Now for a slightly more realistic toy example"
   ]
  },
  {
   "cell_type": "code",
   "execution_count": 23,
   "metadata": {},
   "outputs": [],
   "source": [
    "G = nx.MultiDiGraph()\n",
    "G.add_edges_from([('Age','Team','a'),('Gender','Team','g'),('Name','Gender','t1'),\n",
    "                  ('Name','Age','t2')])\n",
    "L = FiniteInverseCategory(G)"
   ]
  },
  {
   "cell_type": "code",
   "execution_count": 24,
   "metadata": {},
   "outputs": [],
   "source": [
    "namelist = ['John','Bob','Jane','Pia']\n",
    "agelist = ['x_'+str(n) for n in range(1,100)]\n",
    "genderlist = ['M','F','NA']\n",
    "teamlist = ['Bucks','Bulls']\n",
    "\n",
    "a = {}\n",
    "for n in range(1,51):\n",
    "        a['x_'+str(n)] = 'Bucks'\n",
    "for n in range(51,100):\n",
    "        a['x_'+str(n)] = 'Bulls'\n",
    "a = TypedFunction(agelist,teamlist,a)\n",
    "g = TypedFunction(genderlist,teamlist,{'M':'Bucks','F':'Bulls','NA':'Bulls'})\n",
    "t1 = TypedFunction(namelist,genderlist,{'John':'M','Jane':'F','Pia':'NA','Bob':'M'})\n",
    "t2 = TypedFunction(namelist,agelist,{'John':'x_26','Jane':'x_28','Pia':'x_22','Bob':'x_68'})"
   ]
  },
  {
   "cell_type": "code",
   "execution_count": 25,
   "metadata": {},
   "outputs": [],
   "source": [
    "obdata = {'Name':namelist,'Age':agelist, 'Gender':genderlist,'Team':teamlist}\n",
    "mordata = {('Age', 'Team', 'a'):a,('Gender', 'Team', 'g'):g,\n",
    "           ('Name', 'Gender', 't1'):t1,('Name', 'Age', 't2'):t2}\n",
    "M = FICStructure(L,obdata,mordata)"
   ]
  },
  {
   "cell_type": "code",
   "execution_count": 26,
   "metadata": {},
   "outputs": [
    {
     "data": {
      "text/plain": [
       "'Bucks'"
      ]
     },
     "execution_count": 26,
     "metadata": {},
     "output_type": "execute_result"
    }
   ],
   "source": [
    "M.morval[('Name','Team','t2a')].app['John']"
   ]
  },
  {
   "cell_type": "code",
   "execution_count": 27,
   "metadata": {},
   "outputs": [],
   "source": [
    "C_Name = M \n",
    "C = C_Name.yoneda('Name')"
   ]
  },
  {
   "cell_type": "code",
   "execution_count": 28,
   "metadata": {},
   "outputs": [],
   "source": [
    "r_Name = TypedFunction(C.obval['Name'],M.obval['Name'],{'id_Name':'John'})\n",
    "r_Age = TypedFunction(C.obval['Age'],M.obval['Age'],{('Name', 'Age', 't2'):'x_26'})\n",
    "r_Gender = TypedFunction(C.obval['Gender'],M.obval['Gender'],{('Name', 'Gender', 't1'):'M'})\n",
    "r_Team = TypedFunction(C.obval['Team'],M.obval['Team'],{('Name', 'Team', 't1g'):'Bucks',\n",
    "                                                        ('Name', 'Team', 't2a'):'Bucks'})"
   ]
  },
  {
   "cell_type": "code",
   "execution_count": 29,
   "metadata": {},
   "outputs": [],
   "source": [
    "row = FICStructureHomomorphism(L,C,M,{'Name':r_Name,'Age':r_Age,'Gender':r_Gender,\n",
    "                                      'Team':r_Team})"
   ]
  },
  {
   "cell_type": "code",
   "execution_count": 30,
   "metadata": {},
   "outputs": [
    {
     "data": {
      "text/plain": [
       "'John'"
      ]
     },
     "execution_count": 30,
     "metadata": {},
     "output_type": "execute_result"
    }
   ],
   "source": [
    "row.funcval['Name'].app['id_Name']"
   ]
  },
  {
   "cell_type": "markdown",
   "metadata": {},
   "source": [
    "The `row` is so-called because it is, as I have suggested, the replacement for the concept of a \"row\" in the paradigm of tabular data.\n",
    "\n",
    "Thus, for example, the \"rows\" of a data shape are simply a class of certain natural transformations."
   ]
  },
  {
   "cell_type": "markdown",
   "metadata": {},
   "source": [
    "In any case let us write a \"data shape\" version of the toy \"database\" in UniMath."
   ]
  },
  {
   "cell_type": "code",
   "execution_count": 31,
   "metadata": {},
   "outputs": [],
   "source": [
    "M.UniMathDataPoint('Teams_datashape')"
   ]
  }
 ],
 "metadata": {
  "kernelspec": {
   "display_name": "Python 3",
   "language": "python",
   "name": "python3"
  },
  "language_info": {
   "codemirror_mode": {
    "name": "ipython",
    "version": 3
   },
   "file_extension": ".py",
   "mimetype": "text/x-python",
   "name": "python",
   "nbconvert_exporter": "python",
   "pygments_lexer": "ipython3",
   "version": "3.6.5"
  }
 },
 "nbformat": 4,
 "nbformat_minor": 2
}
